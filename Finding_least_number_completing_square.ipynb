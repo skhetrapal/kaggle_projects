{
  "nbformat": 4,
  "nbformat_minor": 0,
  "metadata": {
    "colab": {
      "provenance": [],
      "authorship_tag": "ABX9TyNeCM98zDKgeuHzRLwjMJBN",
      "include_colab_link": true
    },
    "kernelspec": {
      "name": "python3",
      "display_name": "Python 3"
    },
    "language_info": {
      "name": "python"
    }
  },
  "cells": [
    {
      "cell_type": "markdown",
      "metadata": {
        "id": "view-in-github",
        "colab_type": "text"
      },
      "source": [
        "<a href=\"https://colab.research.google.com/github/skhetrapal/kaggle_projects/blob/main/Finding_least_number_completing_square.ipynb\" target=\"_parent\"><img src=\"https://colab.research.google.com/assets/colab-badge.svg\" alt=\"Open In Colab\"/></a>"
      ]
    },
    {
      "cell_type": "markdown",
      "source": [
        "# Find  q , such that p*q is perfect square and q should be as small as possible\n",
        "input =[3,13,7,2,5,13,7], p = mul of all"
      ],
      "metadata": {
        "id": "FPeIPOfCzGe5"
      }
    },
    {
      "cell_type": "code",
      "source": [
        "#A Counter has dictionary-like behavior: Stores elements as keys and their counts as values.\n",
        "#E.g.: my_list = [1, 2, 2, 3, 3, 3, 4]\n",
        "#Counter(my_list)\n",
        "#Output: Counter({3: 3, 2: 2, 1: 1, 4: 1})\n",
        "\n",
        "from collections import Counter\n",
        "\n",
        "def find_q(input_list):\n",
        "  p = 1\n",
        "  for num in input_list:\n",
        "    p *= num\n",
        "\n",
        "  # We want to find all prime factors of the number p and keep track of the number of times these appear in p\n",
        "  def prime_factorize(n):\n",
        "    factors = Counter()\n",
        "    i = 2\n",
        "    while i * i <= n:\n",
        "      # Counts number of times number i is a factor of n\n",
        "      while n % i == 0:\n",
        "        factors[i] += 1\n",
        "        n //= i\n",
        "      #The following line is okay since all lower prime numbers will already be factored out, the second while loop (n % i == 0) will be entered only when i is the next prime..\n",
        "      i += 1\n",
        "    #The last remaining prime factor in n is taken care of by the following if statement:\n",
        "    if n > 1:\n",
        "      factors[n] += 1\n",
        "    return factors\n",
        "\n",
        "  prime_factors = prime_factorize(p)\n",
        "\n",
        "  # Calculate q\n",
        "  q = 1\n",
        "  for prime, count in prime_factors.items():\n",
        "    #As I had mentioned during our discussion, q will be composed of the multiplication of those prime numbers which appear odd number of times in the input list.\n",
        "    if count % 2 == 1:\n",
        "      q *= prime\n",
        "\n",
        "  return q\n",
        "\n",
        "# Example usage:\n",
        "input_list = [3, 13, 7, 2, 5, 13, 7]\n",
        "result = find_q(input_list)\n",
        "print(\"result:\", result)\n"
      ],
      "metadata": {
        "colab": {
          "base_uri": "https://localhost:8080/"
        },
        "id": "Cln4z2RkxpSs",
        "outputId": "c16e0568-9cc7-42a1-da4f-1a030e09e9c9"
      },
      "execution_count": 15,
      "outputs": [
        {
          "output_type": "stream",
          "name": "stdout",
          "text": [
            "result: 30\n"
          ]
        }
      ]
    },
    {
      "cell_type": "code",
      "source": [],
      "metadata": {
        "id": "NmmpLL9m2ID1"
      },
      "execution_count": null,
      "outputs": []
    }
  ]
}